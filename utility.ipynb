{
 "cells": [
  {
   "cell_type": "code",
   "execution_count": 1,
   "metadata": {},
   "outputs": [
    {
     "name": "stdout",
     "output_type": "stream",
     "text": [
      "Collecting Pillow\n",
      "  Downloading pillow-11.1.0-cp310-cp310-macosx_11_0_arm64.whl.metadata (9.1 kB)\n",
      "Downloading pillow-11.1.0-cp310-cp310-macosx_11_0_arm64.whl (3.1 MB)\n",
      "\u001b[2K   \u001b[90m━━━━━━━━━━━━━━━━━━━━━━━━━━━━━━━━━━━━━━━━\u001b[0m \u001b[32m3.1/3.1 MB\u001b[0m \u001b[31m38.6 MB/s\u001b[0m eta \u001b[36m0:00:00\u001b[0m\n",
      "\u001b[?25hInstalling collected packages: Pillow\n",
      "Successfully installed Pillow-11.1.0\n"
     ]
    }
   ],
   "source": [
    "!pip install Pillow"
   ]
  },
  {
   "cell_type": "code",
   "execution_count": 9,
   "metadata": {},
   "outputs": [],
   "source": [
    "from PIL import Image\n",
    "import os\n",
    "\n",
    "extension = \"png\"\n",
    "\n",
    "thumbnail_size = (200, 200)  # Define thumbnail dimensions\n",
    "# Create thumbnails directory if it doesn't exist\n",
    "thumbnails_dir = \"assets/thumbnails\"\n",
    "os.makedirs(thumbnails_dir, exist_ok=True)\n",
    "\n",
    "# Iterate through all files in the assets directory\n",
    "for filename in os.listdir(\"assets\"):\n",
    "  if filename.endswith(\".png\") or filename.endswith(\".jpg\") or filename.endswith(\".jpeg\") or filename.endswith(\".webp\"):\n",
    "    image = Image.open(f\"assets/{filename}\")\n",
    "    image.thumbnail(thumbnail_size)\n",
    "    image.save(f\"{thumbnails_dir}/{filename}\", extension)"
   ]
  },
  {
   "cell_type": "code",
   "execution_count": 5,
   "metadata": {
    "vscode": {
     "languageId": "ruby"
    }
   },
   "outputs": [],
   "source": [
    "from PIL import Image\n",
    "import os\n",
    "# Define new size for the image\n",
    "new_size = (50, 50)\n",
    "\n",
    "# Specify the image file to resize\n",
    "filename = \"moose_logo.png\"  # Replace with your image file name\n",
    "\n",
    "# Open the image, resize it, and save it\n",
    "image = Image.open(f\"assets/{filename}\")\n",
    "resized_image = image.resize(new_size)\n",
    "resized_image.save(f\"assets/thumbnails/resized_{filename}\", \"png\")"
   ]
  },
  {
   "cell_type": "code",
   "execution_count": 1,
   "metadata": {
    "vscode": {
     "languageId": "ruby"
    }
   },
   "outputs": [
    {
     "name": "stdout",
     "output_type": "stream",
     "text": [
      "Processing: ./css/services.css\n",
      "Processing: ./css/areas.css\n",
      "Processing: ./css/booking.css\n",
      "Processing: ./css/gallery.css\n",
      "Processing: ./css/hero.css\n",
      "Processing: ./css/navbar.css\n",
      "Processing: ./css/reviews.css\n",
      "Processing: ./css/utilities.css\n",
      "Processing: ./css/blog.css\n",
      "Processing: ./css/footer.css\n",
      "Processing: ./css/thankyou.css\n",
      "Created: merged_1.css\n"
     ]
    }
   ],
   "source": [
    "import os\n",
    "import itertools\n",
    "\n",
    "def merge_html_files(directory, group_size=11):\n",
    "    # Get all HTML file paths\n",
    "    html_files = []\n",
    "    for root, _, files in os.walk(directory):\n",
    "        for file in files:\n",
    "            if file.endswith(\".css\"):\n",
    "                html_files.append(os.path.join(root, file))\n",
    "\n",
    "    # Process files in groups of `group_size`\n",
    "    for index, file_group in enumerate(itertools.zip_longest(*[iter(html_files)] * group_size, fillvalue=None)):\n",
    "        file_group = [f for f in file_group if f]  # Remove None values from last group if not full\n",
    "        output_file = f\"merged_{index + 1}.css\"\n",
    "        \n",
    "        with open(output_file, \"w\", encoding=\"utf-8\") as outfile:\n",
    "            for file_path in file_group:\n",
    "                print(f\"Processing: {file_path}\")\n",
    "                \n",
    "                # Write file path as a comment\n",
    "                outfile.write(f\"\\n<!-- File: {file_path} -->\\n\")\n",
    "                \n",
    "                # Read and write file content\n",
    "                with open(file_path, \"r\", encoding=\"utf-8\") as infile:\n",
    "                    outfile.write(infile.read())\n",
    "\n",
    "                # End marker for file\n",
    "                outfile.write(f\"\\n<!-- End of {file_path} -->\\n\")\n",
    "\n",
    "        print(f\"Created: {output_file}\")\n",
    "\n",
    "# Set the directory to search (change as needed)\n",
    "directory_to_search = \".\"  # Change this to your target directory\n",
    "merge_html_files(directory_to_search)\n"
   ]
  },
  {
   "cell_type": "code",
   "execution_count": 2,
   "metadata": {
    "vscode": {
     "languageId": "ruby"
    }
   },
   "outputs": [],
   "source": [
    "from PIL import Image\n",
    "import pillow_avif\n",
    "\n",
    "image = Image.open(\"assets/hero.jpg\")\n",
    "image.save(\"assets/hero.avif\", format=\"AVIF\")\n"
   ]
  },
  {
   "cell_type": "code",
   "execution_count": 2,
   "metadata": {
    "vscode": {
     "languageId": "ruby"
    }
   },
   "outputs": [
    {
     "name": "stdout",
     "output_type": "stream",
     "text": [
      "Conversion complete for small: assets/hero_small.avif\n",
      "Conversion complete for medium: assets/hero_medium.avif\n",
      "Conversion complete for large: assets/hero_large.avif\n"
     ]
    }
   ],
   "source": [
    "from PIL import Image\n",
    "import pillow_avif  # Ensures AVIF support is available\n",
    "\n",
    "# Define target widths for different device sizes\n",
    "sizes = {\n",
    "    \"small\": 480,\n",
    "    \"medium\": 768,\n",
    "    \"large\": 1200\n",
    "}\n",
    "\n",
    "# Path to your current hero image (in JPEG format)\n",
    "input_path = \"assets/hero.jpg\"\n",
    "img = Image.open(input_path)\n",
    "\n",
    "# Loop over the sizes and create resized AVIF images\n",
    "for label, target_width in sizes.items():\n",
    "    aspect_ratio = img.height / img.width\n",
    "    target_height = int(target_width * aspect_ratio)\n",
    "    resized_img = img.resize((target_width, target_height), Image.LANCZOS)\n",
    "    output_path = f\"assets/hero_{label}.avif\"\n",
    "    # Save as AVIF – adjust quality as needed (quality is a value between 0 and 100)\n",
    "    resized_img.save(output_path, format=\"AVIF\", quality=50)\n",
    "    print(f\"Conversion complete for {label}: {output_path}\")\n"
   ]
  }
 ],
 "metadata": {
  "kernelspec": {
   "display_name": "venv",
   "language": "python",
   "name": "python3"
  },
  "language_info": {
   "codemirror_mode": {
    "name": "ipython",
    "version": 3
   },
   "file_extension": ".py",
   "mimetype": "text/x-python",
   "name": "python",
   "nbconvert_exporter": "python",
   "pygments_lexer": "ipython3",
   "version": "3.10.15"
  }
 },
 "nbformat": 4,
 "nbformat_minor": 2
}
