{
 "cells": [
  {
   "cell_type": "code",
   "execution_count": 1,
   "metadata": {},
   "outputs": [
    {
     "name": "stdout",
     "output_type": "stream",
     "text": [
      "Collecting Pillow\n",
      "  Downloading pillow-11.1.0-cp310-cp310-macosx_11_0_arm64.whl.metadata (9.1 kB)\n",
      "Downloading pillow-11.1.0-cp310-cp310-macosx_11_0_arm64.whl (3.1 MB)\n",
      "\u001b[2K   \u001b[90m━━━━━━━━━━━━━━━━━━━━━━━━━━━━━━━━━━━━━━━━\u001b[0m \u001b[32m3.1/3.1 MB\u001b[0m \u001b[31m38.6 MB/s\u001b[0m eta \u001b[36m0:00:00\u001b[0m\n",
      "\u001b[?25hInstalling collected packages: Pillow\n",
      "Successfully installed Pillow-11.1.0\n"
     ]
    }
   ],
   "source": [
    "!pip install Pillow"
   ]
  },
  {
   "cell_type": "code",
   "execution_count": 9,
   "metadata": {},
   "outputs": [],
   "source": [
    "from PIL import Image\n",
    "import os\n",
    "\n",
    "extension = \"png\"\n",
    "\n",
    "thumbnail_size = (200, 200)  # Define thumbnail dimensions\n",
    "# Create thumbnails directory if it doesn't exist\n",
    "thumbnails_dir = \"assets/thumbnails\"\n",
    "os.makedirs(thumbnails_dir, exist_ok=True)\n",
    "\n",
    "# Iterate through all files in the assets directory\n",
    "for filename in os.listdir(\"assets\"):\n",
    "  if filename.endswith(\".png\") or filename.endswith(\".jpg\") or filename.endswith(\".jpeg\") or filename.endswith(\".webp\"):\n",
    "    image = Image.open(f\"assets/{filename}\")\n",
    "    image.thumbnail(thumbnail_size)\n",
    "    image.save(f\"{thumbnails_dir}/{filename}\", extension)"
   ]
  },
  {
   "cell_type": "code",
   "execution_count": null,
   "metadata": {
    "vscode": {
     "languageId": "ruby"
    }
   },
   "outputs": [],
   "source": [
    "# Define new size for the image\n",
    "new_size = (400, 400)\n",
    "\n",
    "# Specify the image file to resize\n",
    "filename = \"example.png\"  # Replace with your image file name\n",
    "\n",
    "# Open the image, resize it, and save it\n",
    "image = Image.open(f\"assets/{filename}\")\n",
    "resized_image = image.resize(new_size)\n",
    "resized_image.save(f\"{thumbnails_dir}/resized_{filename}\", extension)"
   ]
  },
  {
   "cell_type": "code",
   "execution_count": null,
   "metadata": {
    "vscode": {
     "languageId": "ruby"
    }
   },
   "outputs": [],
   "source": []
  }
 ],
 "metadata": {
  "kernelspec": {
   "display_name": "venv",
   "language": "python",
   "name": "python3"
  },
  "language_info": {
   "codemirror_mode": {
    "name": "ipython",
    "version": 3
   },
   "file_extension": ".py",
   "mimetype": "text/x-python",
   "name": "python",
   "nbconvert_exporter": "python",
   "pygments_lexer": "ipython3",
   "version": "3.10.15"
  }
 },
 "nbformat": 4,
 "nbformat_minor": 2
}
